{
 "cells": [
  {
   "cell_type": "markdown",
   "id": "f14d8a6a-27f0-41cc-a8db-d7f4218d26ae",
   "metadata": {
    "editable": true,
    "slideshow": {
     "slide_type": ""
    },
    "tags": []
   },
   "source": [
    "# Lösungsverfahren\n",
    "\n",
    "In der mathematischen Anwendung werden immer wieder Verfahren benötigt, die eine Gleichung lösen können.\n",
    "Mit Gleichung lösen ist hierbei gemeint, dass die Unbekannte $x$ gefunden wird, welche die Gleichung wahr werden lässt."
   ]
  },
  {
   "cell_type": "code",
   "execution_count": null,
   "id": "0163a1e5-32b7-440c-9193-8707818ea912",
   "metadata": {
    "editable": true,
    "slideshow": {
     "slide_type": ""
    },
    "tags": []
   },
   "outputs": [],
   "source": []
  }
 ],
 "metadata": {
  "kernelspec": {
   "display_name": "Python 3 (ipykernel)",
   "language": "python",
   "name": "python3"
  },
  "language_info": {
   "codemirror_mode": {
    "name": "ipython",
    "version": 3
   },
   "file_extension": ".py",
   "mimetype": "text/x-python",
   "name": "python",
   "nbconvert_exporter": "python",
   "pygments_lexer": "ipython3",
   "version": "3.10.12"
  }
 },
 "nbformat": 4,
 "nbformat_minor": 5
}
