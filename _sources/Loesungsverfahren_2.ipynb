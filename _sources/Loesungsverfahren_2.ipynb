{
 "cells": [
  {
   "cell_type": "markdown",
   "id": "f14d8a6a-27f0-41cc-a8db-d7f4218d26ae",
   "metadata": {
    "editable": true,
    "slideshow": {
     "slide_type": ""
    },
    "tags": []
   },
   "source": [
    "# Lösungsverfahren\n",
    "\n",
    "In der mathematischen Anwendung werden immer wieder Verfahren benötigt, mit deren Hilfe eine Gleichung geläst werden kann.\n",
    "Mit Gleichung lösen ist hierbei gemeint, dass jenes Unbekannte $x$ gefunden wird, welche die Gleichung wahr werden lässt."
   ]
  },
  {
   "cell_type": "markdown",
   "id": "8337af9c-729e-4517-9c04-bda5c5b2301f",
   "metadata": {
    "editable": true,
    "slideshow": {
     "slide_type": ""
    },
    "tags": []
   },
   "source": [
    "## Anwendungen\n",
    "Der Klassiker ist die Bestimmung von $x$, unter welchem die Funktion $f(x)$ einen Wert $a$ annimmt.\n",
    "\n",
    "```{prf:example} Stelle finden\n",
    ":label: \"EinText\n",
    "Wenn wird beispielsweise wissen wollen, bei welchem $x$ die Funktion mit der Vorschrift $0,5x^3-17x$ den Funktionswert $29$ annimmt, starten wir unsere Suche mit dem Ansatz:\n",
    "\n",
    "$$\n",
    "\\begin{align*}\n",
    "f(x)&=29\\\\\\\n",
    "0,5x^3-17x&=29\n",
    "\\end{align*}\n",
    "$$\n",
    "\n",
    "Um die Gleichung $0,5x^3-17x=29$ lösen zu können, brauchen wir die Lösungsverfahren. (Hier: S.d.N und pq-Formel)\n",
    "```\n",
    "\n",
    "Der wohl bekannteste, gesuchte Funktionswert ist die $0$.  \n"
   ]
  },
  {
   "cell_type": "code",
   "execution_count": null,
   "id": "d4825339-f7bb-45d2-8692-6b425e07e3c5",
   "metadata": {
    "editable": true,
    "slideshow": {
     "slide_type": ""
    },
    "tags": []
   },
   "outputs": [],
   "source": []
  }
 ],
 "metadata": {
  "kernelspec": {
   "display_name": "Python 3 (ipykernel)",
   "language": "python",
   "name": "python3"
  },
  "language_info": {
   "codemirror_mode": {
    "name": "ipython",
    "version": 3
   },
   "file_extension": ".py",
   "mimetype": "text/x-python",
   "name": "python",
   "nbconvert_exporter": "python",
   "pygments_lexer": "ipython3",
   "version": "3.10.12"
  }
 },
 "nbformat": 4,
 "nbformat_minor": 5
}
